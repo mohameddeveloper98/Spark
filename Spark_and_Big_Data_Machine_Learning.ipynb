{
 "cells": [
  {
   "cell_type": "markdown",
   "id": "fa486f23",
   "metadata": {
    "id": "fa486f23"
   },
   "source": [
    "![image.png](attachment:image.png)"
   ]
  },
  {
   "cell_type": "markdown",
   "id": "abbf1e33",
   "metadata": {
    "id": "abbf1e33"
   },
   "source": [
    "##### **Good luck with taking your exam. Keep working and make your dreams all come true. Seeing the results of all of your hard work will make this struggle worth it. We’re all thinking of you.** \n",
    "<b><font color='blue'>AI-PRO Spark Team ITI</font></b>"
   ]
  },
  {
   "cell_type": "markdown",
   "id": "c9da32d6",
   "metadata": {
    "id": "c9da32d6"
   },
   "source": [
    "# NLP Using PySpark"
   ]
  },
  {
   "cell_type": "markdown",
   "id": "8326ba88",
   "metadata": {
    "id": "8326ba88"
   },
   "source": [
    "## Objective:\n",
    "- The objective from this project is to create a <b>Spam filter using NaiveBayes classifier</b>.\n",
    "- It is required to obtain <b>f1_scored > 0.9</b>.\n",
    "- We'll use a dataset from UCI Repository. SMS Spam Detection: https://archive.ics.uci.edu/ml/datasets/SMS+Spam+Collection\n",
    "- Data is also provided for you in the assignment (you do not have to download it)."
   ]
  },
  {
   "cell_type": "markdown",
   "id": "6971f788",
   "metadata": {
    "id": "6971f788"
   },
   "source": [
    "## To perform this task follow the following guiding steps:"
   ]
  },
  {
   "cell_type": "markdown",
   "id": "e31bc851",
   "metadata": {
    "id": "e31bc851"
   },
   "source": [
    "### Create a spark session and import the required libraries"
   ]
  },
  {
   "cell_type": "code",
   "execution_count": 1,
   "id": "wyWyMQ3kgLRn",
   "metadata": {
    "colab": {
     "base_uri": "https://localhost:8080/"
    },
    "id": "wyWyMQ3kgLRn",
    "outputId": "7a5fc0d9-4baf-4bd0-c913-afc12960142b"
   },
   "outputs": [
    {
     "name": "stdout",
     "output_type": "stream",
     "text": [
      "Looking in indexes: https://pypi.org/simple, https://us-python.pkg.dev/colab-wheels/public/simple/\n",
      "Collecting pyspark\n",
      "  Downloading pyspark-3.3.0.tar.gz (281.3 MB)\n",
      "\u001b[K     |████████████████████████████████| 281.3 MB 40 kB/s \n",
      "\u001b[?25hCollecting py4j==0.10.9.5\n",
      "  Downloading py4j-0.10.9.5-py2.py3-none-any.whl (199 kB)\n",
      "\u001b[K     |████████████████████████████████| 199 kB 55.8 MB/s \n",
      "\u001b[?25hBuilding wheels for collected packages: pyspark\n",
      "  Building wheel for pyspark (setup.py) ... \u001b[?25l\u001b[?25hdone\n",
      "  Created wheel for pyspark: filename=pyspark-3.3.0-py2.py3-none-any.whl size=281764026 sha256=97e8a57bea44ff3b88d3084087f88aeb22fbf0facee4b49465ba3a521235c44a\n",
      "  Stored in directory: /root/.cache/pip/wheels/7a/8e/1b/f73a52650d2e5f337708d9f6a1750d451a7349a867f928b885\n",
      "Successfully built pyspark\n",
      "Installing collected packages: py4j, pyspark\n",
      "Successfully installed py4j-0.10.9.5 pyspark-3.3.0\n"
     ]
    }
   ],
   "source": [
    "# !pip install pyspark"
   ]
  },
  {
   "cell_type": "code",
   "execution_count": 1,
   "id": "dcf86e46",
   "metadata": {
    "id": "dcf86e46"
   },
   "outputs": [],
   "source": [
    "import pyspark\n",
    "from pyspark.sql.functions import count,avg,sum,mean\n",
    "# from pyspark.sql.types import TimestampType\n",
    "from pyspark.sql.functions import col, isnan, when,udf,datediff, isnull, log"
   ]
  },
  {
   "cell_type": "code",
   "execution_count": 2,
   "id": "dhlzybk-gSMY",
   "metadata": {
    "id": "dhlzybk-gSMY"
   },
   "outputs": [],
   "source": [
    "import pandas as pd\n",
    "import numpy as np\n"
   ]
  },
  {
   "cell_type": "code",
   "execution_count": 3,
   "id": "N-VNvcosiTdX",
   "metadata": {
    "id": "N-VNvcosiTdX"
   },
   "outputs": [],
   "source": [
    "from pyspark.ml.feature import CountVectorizer\n",
    "from pyspark.ml.feature import Tokenizer, RegexTokenizer,StopWordsRemover, CountVectorizer,IDF,StringIndexer\n",
    "from pyspark.ml.feature import StringIndexer\n",
    "from pyspark.ml.feature import VectorAssembler\n",
    "from pyspark.ml.classification import NaiveBayes\n"
   ]
  },
  {
   "cell_type": "code",
   "execution_count": 4,
   "id": "lrCFqeD_gTrs",
   "metadata": {
    "colab": {
     "base_uri": "https://localhost:8080/",
     "height": 17
    },
    "id": "lrCFqeD_gTrs",
    "outputId": "89dc1547-8dbb-49ab-9edc-8e10697d8d1c"
   },
   "outputs": [
    {
     "data": {
      "text/html": [
       "<style>pre {white-space : pre !important ;}</style>"
      ],
      "text/plain": [
       "<IPython.core.display.HTML object>"
      ]
     },
     "metadata": {},
     "output_type": "display_data"
    }
   ],
   "source": [
    "from IPython.display import display, HTML\n",
    "display(HTML(\"<style>pre {white-space : pre !important ;}</style>\"))"
   ]
  },
  {
   "cell_type": "code",
   "execution_count": 5,
   "id": "5kWWmJgtghYw",
   "metadata": {
    "id": "5kWWmJgtghYw"
   },
   "outputs": [],
   "source": [
    "from pyspark.sql import SparkSession\n",
    "spark = SparkSession.builder.getOrCreate()"
   ]
  },
  {
   "cell_type": "markdown",
   "id": "90c7df9e",
   "metadata": {
    "id": "90c7df9e"
   },
   "source": [
    "### Read the readme file to learn more about the data"
   ]
  },
  {
   "cell_type": "markdown",
   "id": "2d00718f",
   "metadata": {
    "id": "2d00718f"
   },
   "source": [
    "### Read the data into a DataFrame"
   ]
  },
  {
   "cell_type": "code",
   "execution_count": 6,
   "id": "29914cf1",
   "metadata": {
    "id": "29914cf1"
   },
   "outputs": [],
   "source": [
    "df = spark.read.option(\"header\", \"false\") \\\n",
    "    .option(\"delimiter\", \"\\t\") \\\n",
    "    .option(\"inferSchema\", \"true\") \\\n",
    "    .csv(\"/content/SMSSpamCollection.txt\") \\\n",
    "    .withColumnRenamed(\"_c0\", \"class\") \\\n",
    "    .withColumnRenamed(\"_c1\", \"text\")"
   ]
  },
  {
   "cell_type": "markdown",
   "id": "182cd7f6",
   "metadata": {
    "id": "182cd7f6"
   },
   "source": [
    "### Print the schema"
   ]
  },
  {
   "cell_type": "code",
   "execution_count": 7,
   "id": "d8AX8Rsyh1ul",
   "metadata": {
    "colab": {
     "base_uri": "https://localhost:8080/"
    },
    "id": "d8AX8Rsyh1ul",
    "outputId": "85ed3419-69ec-4768-c609-55847d7bdbb6"
   },
   "outputs": [
    {
     "name": "stdout",
     "output_type": "stream",
     "text": [
      "root\n",
      " |-- class: string (nullable = true)\n",
      " |-- text: string (nullable = true)\n",
      "\n"
     ]
    }
   ],
   "source": [
    "df.printSchema()\n"
   ]
  },
  {
   "cell_type": "code",
   "execution_count": 7,
   "id": "b52706b9",
   "metadata": {
    "id": "b52706b9"
   },
   "outputs": [],
   "source": []
  },
  {
   "cell_type": "markdown",
   "id": "2b90cce7",
   "metadata": {
    "id": "2b90cce7"
   },
   "source": [
    "### Rename the first column to 'class' and second column to 'text'"
   ]
  },
  {
   "cell_type": "code",
   "execution_count": 7,
   "id": "f1a88df6",
   "metadata": {
    "id": "f1a88df6",
    "scrolled": false
   },
   "outputs": [],
   "source": [
    "## did that on Reading the Dataframe step above"
   ]
  },
  {
   "cell_type": "code",
   "execution_count": 7,
   "id": "62a544fc",
   "metadata": {
    "id": "62a544fc"
   },
   "outputs": [],
   "source": []
  },
  {
   "cell_type": "markdown",
   "id": "a3e798d0",
   "metadata": {
    "id": "a3e798d0"
   },
   "source": [
    "### Show the first 10 rows from the dataframe\n",
    "- Show once with truncate=True and once with truncate=False"
   ]
  },
  {
   "cell_type": "code",
   "execution_count": 8,
   "id": "KvNnl8AljXDJ",
   "metadata": {
    "colab": {
     "base_uri": "https://localhost:8080/"
    },
    "id": "KvNnl8AljXDJ",
    "outputId": "dc7573dc-fc80-4b77-b940-8a1a2bd7b8ab"
   },
   "outputs": [
    {
     "name": "stdout",
     "output_type": "stream",
     "text": [
      "+-----+--------------------+\n",
      "|class|                text|\n",
      "+-----+--------------------+\n",
      "|  ham|Go until jurong p...|\n",
      "|  ham|Ok lar... Joking ...|\n",
      "| spam|Free entry in 2 a...|\n",
      "|  ham|U dun say so earl...|\n",
      "|  ham|Nah I don't think...|\n",
      "| spam|FreeMsg Hey there...|\n",
      "|  ham|Even my brother i...|\n",
      "|  ham|As per your reque...|\n",
      "| spam|WINNER!! As a val...|\n",
      "| spam|Had your mobile 1...|\n",
      "+-----+--------------------+\n",
      "\n"
     ]
    }
   ],
   "source": [
    "df.limit(10).show(truncate=True)"
   ]
  },
  {
   "cell_type": "code",
   "execution_count": 9,
   "id": "hK7sM5GTjgqP",
   "metadata": {
    "colab": {
     "base_uri": "https://localhost:8080/"
    },
    "id": "hK7sM5GTjgqP",
    "outputId": "e2dcf93e-6ccf-48d9-b045-6e856ad9812f"
   },
   "outputs": [
    {
     "name": "stdout",
     "output_type": "stream",
     "text": [
      "+-----+----------------------------------------------------------------------------------------------------------------------------------------------------------------+\n",
      "|class|text                                                                                                                                                            |\n",
      "+-----+----------------------------------------------------------------------------------------------------------------------------------------------------------------+\n",
      "|ham  |Go until jurong point, crazy.. Available only in bugis n great world la e buffet... Cine there got amore wat...                                                 |\n",
      "|ham  |Ok lar... Joking wif u oni...                                                                                                                                   |\n",
      "|spam |Free entry in 2 a wkly comp to win FA Cup final tkts 21st May 2005. Text FA to 87121 to receive entry question(std txt rate)T&C's apply 08452810075over18's     |\n",
      "|ham  |U dun say so early hor... U c already then say...                                                                                                               |\n",
      "|ham  |Nah I don't think he goes to usf, he lives around here though                                                                                                   |\n",
      "|spam |FreeMsg Hey there darling it's been 3 week's now and no word back! I'd like some fun you up for it still? Tb ok! XxX std chgs to send, £1.50 to rcv             |\n",
      "|ham  |Even my brother is not like to speak with me. They treat me like aids patent.                                                                                   |\n",
      "|ham  |As per your request 'Melle Melle (Oru Minnaminunginte Nurungu Vettam)' has been set as your callertune for all Callers. Press *9 to copy your friends Callertune|\n",
      "|spam |WINNER!! As a valued network customer you have been selected to receivea £900 prize reward! To claim call 09061701461. Claim code KL341. Valid 12 hours only.   |\n",
      "|spam |Had your mobile 11 months or more? U R entitled to Update to the latest colour mobiles with camera for Free! Call The Mobile Update Co FREE on 08002986030      |\n",
      "+-----+----------------------------------------------------------------------------------------------------------------------------------------------------------------+\n",
      "\n"
     ]
    }
   ],
   "source": [
    "df.limit(10).show(truncate=False)"
   ]
  },
  {
   "cell_type": "code",
   "execution_count": 9,
   "id": "41609e6b",
   "metadata": {
    "id": "41609e6b"
   },
   "outputs": [],
   "source": []
  },
  {
   "cell_type": "markdown",
   "id": "2fe744a9",
   "metadata": {
    "id": "2fe744a9"
   },
   "source": [
    "## Clean and Prepare the Data"
   ]
  },
  {
   "cell_type": "markdown",
   "id": "4d693167",
   "metadata": {
    "id": "4d693167"
   },
   "source": [
    "### Create a new feature column contains the length of the text column"
   ]
  },
  {
   "cell_type": "code",
   "execution_count": 10,
   "id": "5424a0cb",
   "metadata": {
    "id": "5424a0cb"
   },
   "outputs": [],
   "source": [
    "from pyspark.sql.functions import length\n",
    "df_2 = df.withColumn('length',length(df['text']))"
   ]
  },
  {
   "cell_type": "markdown",
   "id": "78ea2de6",
   "metadata": {
    "id": "78ea2de6"
   },
   "source": [
    "### Show the new dataframe"
   ]
  },
  {
   "cell_type": "code",
   "execution_count": 11,
   "id": "vG-u5ZGBkWyP",
   "metadata": {
    "colab": {
     "base_uri": "https://localhost:8080/"
    },
    "id": "vG-u5ZGBkWyP",
    "outputId": "826e3314-7c63-474b-9032-dea216b165b7"
   },
   "outputs": [
    {
     "name": "stdout",
     "output_type": "stream",
     "text": [
      "+-----+--------------------+------+\n",
      "|class|                text|length|\n",
      "+-----+--------------------+------+\n",
      "|  ham|Go until jurong p...|   111|\n",
      "|  ham|Ok lar... Joking ...|    29|\n",
      "| spam|Free entry in 2 a...|   155|\n",
      "|  ham|U dun say so earl...|    49|\n",
      "|  ham|Nah I don't think...|    61|\n",
      "| spam|FreeMsg Hey there...|   147|\n",
      "|  ham|Even my brother i...|    77|\n",
      "|  ham|As per your reque...|   160|\n",
      "| spam|WINNER!! As a val...|   157|\n",
      "| spam|Had your mobile 1...|   154|\n",
      "|  ham|I'm gonna be home...|   109|\n",
      "| spam|SIX chances to wi...|   136|\n",
      "| spam|URGENT! You have ...|   155|\n",
      "|  ham|I've been searchi...|   196|\n",
      "|  ham|I HAVE A DATE ON ...|    35|\n",
      "| spam|XXXMobileMovieClu...|   149|\n",
      "|  ham|Oh k...i'm watchi...|    26|\n",
      "|  ham|Eh u remember how...|    81|\n",
      "|  ham|Fine if thats th...|    56|\n",
      "| spam|England v Macedon...|   155|\n",
      "+-----+--------------------+------+\n",
      "only showing top 20 rows\n",
      "\n"
     ]
    }
   ],
   "source": [
    "df_2.show()"
   ]
  },
  {
   "cell_type": "markdown",
   "id": "692e37a6",
   "metadata": {
    "id": "692e37a6"
   },
   "source": [
    "### Get the average text length for each class (give alias name to the average length column)"
   ]
  },
  {
   "cell_type": "code",
   "execution_count": 12,
   "id": "4m1n5ueekfaR",
   "metadata": {
    "colab": {
     "base_uri": "https://localhost:8080/"
    },
    "id": "4m1n5ueekfaR",
    "outputId": "da968e0a-5b1a-4f27-c873-86dca5a91b29"
   },
   "outputs": [
    {
     "name": "stdout",
     "output_type": "stream",
     "text": [
      "+-----+-----------------+\n",
      "|class|      Avg_Lenghth|\n",
      "+-----+-----------------+\n",
      "|  ham|71.45431945307645|\n",
      "| spam|138.6706827309237|\n",
      "+-----+-----------------+\n",
      "\n"
     ]
    }
   ],
   "source": [
    "df_2.groupby('class').agg(mean(\"length\").alias(\"Avg_Lenghth\")).show()"
   ]
  },
  {
   "cell_type": "markdown",
   "id": "d5e101af",
   "metadata": {
    "id": "d5e101af"
   },
   "source": [
    "## Feature Transformations"
   ]
  },
  {
   "cell_type": "markdown",
   "id": "838ad9dd",
   "metadata": {
    "id": "838ad9dd"
   },
   "source": [
    "### In this part you transform you raw text in to tf_idf model :\n",
    "- For more information about TF-IDF check the following link: <b>(Not needed for the test)</b>\n",
    "https://en.wikipedia.org/wiki/Tf%E2%80%93idf"
   ]
  },
  {
   "cell_type": "markdown",
   "id": "225067d5",
   "metadata": {
    "id": "225067d5"
   },
   "source": [
    "### Perform the following steps to obtain TF-IDF:\n",
    "1. Import the required transformers/estimators for the subsequent steps.\n",
    "2. Create a <b>Tokenizer</b> from the text column.\n",
    "3. Create a <b>StopWordsRemover</b> to remove the <b>stop words</b> from the column obtained from the <b>Tokenizer</b>.\n",
    "4. Create a <b>CountVectorizer</b> after removing the <b>stop words</b>.\n",
    "5. Create the <b>TF-IDF</b> from the <b>CountVectorizer</b>."
   ]
  },
  {
   "cell_type": "code",
   "execution_count": 13,
   "id": "6a4eebf8",
   "metadata": {
    "id": "6a4eebf8"
   },
   "outputs": [],
   "source": [
    "tokenizer = Tokenizer(inputCol=\"text\", outputCol=\"token_text\")\n"
   ]
  },
  {
   "cell_type": "code",
   "execution_count": 14,
   "id": "b82756db",
   "metadata": {
    "id": "b82756db"
   },
   "outputs": [],
   "source": [
    "stop_words_remover = StopWordsRemover(inputCol='token_text',outputCol='stop_tokens')\n"
   ]
  },
  {
   "cell_type": "code",
   "execution_count": 15,
   "id": "AyEzkk_Wlt1i",
   "metadata": {
    "id": "AyEzkk_Wlt1i"
   },
   "outputs": [],
   "source": [
    "count_Vectorizer = CountVectorizer(inputCol='stop_tokens',outputCol='count_vec')\n"
   ]
  },
  {
   "cell_type": "code",
   "execution_count": 16,
   "id": "kJfCP66ClwRc",
   "metadata": {
    "id": "kJfCP66ClwRc"
   },
   "outputs": [],
   "source": [
    "TF_IDF = IDF(inputCol=\"count_vec\", outputCol=\"tf_idf\")\n"
   ]
  },
  {
   "cell_type": "markdown",
   "id": "1527ad65",
   "metadata": {
    "id": "1527ad65"
   },
   "source": [
    "- Convert the <b>class column</b> to index using <b>StringIndexer</b>\n",
    "- Create feature column from the <b>TF-IDF</b> and <b>lenght</b> columns."
   ]
  },
  {
   "cell_type": "code",
   "execution_count": 17,
   "id": "aaf46159",
   "metadata": {
    "id": "aaf46159"
   },
   "outputs": [],
   "source": [
    "String_Indexer = StringIndexer(inputCol='class',outputCol='label')\n"
   ]
  },
  {
   "cell_type": "code",
   "execution_count": 18,
   "id": "ad9d4c52",
   "metadata": {
    "id": "ad9d4c52"
   },
   "outputs": [],
   "source": [
    "Vector_Assembler = VectorAssembler(inputCols=['tf_idf','length'],outputCol='features')\n"
   ]
  },
  {
   "cell_type": "markdown",
   "id": "9775d494",
   "metadata": {
    "id": "9775d494"
   },
   "source": [
    "## The Model\n",
    "- Create a <b>NaiveBayes</b> classifier with the default parameters."
   ]
  },
  {
   "cell_type": "code",
   "execution_count": 19,
   "id": "57af0d5d",
   "metadata": {
    "id": "57af0d5d"
   },
   "outputs": [],
   "source": [
    "nb = NaiveBayes()\n"
   ]
  },
  {
   "cell_type": "markdown",
   "id": "dc14de63",
   "metadata": {
    "id": "dc14de63"
   },
   "source": [
    "## Pipeline\n",
    "### Create a pipeline model contains all the steps starting from the Tokenizer to the NaiveBays classifier."
   ]
  },
  {
   "cell_type": "code",
   "execution_count": 20,
   "id": "8ee0d1ca",
   "metadata": {
    "id": "8ee0d1ca"
   },
   "outputs": [],
   "source": [
    "from pyspark.ml import Pipeline\n",
    "Pipe_Line = Pipeline(stages=[String_Indexer,tokenizer,stop_words_remover,count_Vectorizer,TF_IDF,Vector_Assembler,nb])\n"
   ]
  },
  {
   "cell_type": "markdown",
   "id": "f5d7efbe",
   "metadata": {
    "id": "f5d7efbe"
   },
   "source": [
    "### Split your data to trian and test data with ratios 0.7 and 0.3 respectively."
   ]
  },
  {
   "cell_type": "code",
   "execution_count": 22,
   "id": "2843d997",
   "metadata": {
    "id": "2843d997"
   },
   "outputs": [],
   "source": [
    "(training,testing) = df_2.randomSplit([0.7,0.3])\n"
   ]
  },
  {
   "cell_type": "code",
   "execution_count": 23,
   "id": "a-TOvdi7wSw1",
   "metadata": {
    "colab": {
     "base_uri": "https://localhost:8080/"
    },
    "id": "a-TOvdi7wSw1",
    "outputId": "65eea341-5053-44a8-d1b3-e1057e7a87d8"
   },
   "outputs": [
    {
     "name": "stdout",
     "output_type": "stream",
     "text": [
      "+-----+--------------------+------+\n",
      "|class|                text|length|\n",
      "+-----+--------------------+------+\n",
      "|  ham| &lt;#&gt;  mins ...|    51|\n",
      "|  ham| &lt;DECIMAL&gt; ...|   132|\n",
      "|  ham| and  picking the...|    41|\n",
      "|  ham| came to look at ...|   103|\n",
      "|  ham| gonna let me kno...|    95|\n",
      "|  ham| said kiss, kiss,...|   133|\n",
      "|  ham| says that he's q...|   200|\n",
      "|  ham|\"Gimme a few\" was...|    41|\n",
      "|  ham|\"Happy valentines...|   147|\n",
      "|  ham|\"Life is nothing ...|   159|\n",
      "|  ham|\"The world suffer...|   129|\n",
      "|  ham|\"Wen u miss someo...|   143|\n",
      "|  ham|&lt;#&gt;  am I t...|    45|\n",
      "|  ham|&lt;#&gt;  great ...|    85|\n",
      "|  ham|&lt;#&gt;  is fas...|   461|\n",
      "|  ham|&lt;#&gt;  w jett...|    37|\n",
      "|  ham|&lt;#&gt; %of ppl...|   327|\n",
      "|  ham|&lt;#&gt; , that'...|    48|\n",
      "|  ham|'An Amazing Quote...|   141|\n",
      "|  ham|(I should add tha...|   132|\n",
      "+-----+--------------------+------+\n",
      "only showing top 20 rows\n",
      "\n"
     ]
    }
   ],
   "source": [
    "training.show()"
   ]
  },
  {
   "cell_type": "markdown",
   "id": "8bcea576",
   "metadata": {
    "id": "8bcea576"
   },
   "source": [
    "### Fit your Pipeline model to the training data"
   ]
  },
  {
   "cell_type": "code",
   "execution_count": 24,
   "id": "3c5d4681",
   "metadata": {
    "id": "3c5d4681"
   },
   "outputs": [],
   "source": [
    "Predictor_fit = Pipe_Line.fit(training)\n"
   ]
  },
  {
   "cell_type": "markdown",
   "id": "228a3eb1",
   "metadata": {
    "id": "228a3eb1"
   },
   "source": [
    "### Perform predictions on tests dataframe"
   ]
  },
  {
   "cell_type": "code",
   "execution_count": 25,
   "id": "14f4aab5",
   "metadata": {
    "id": "14f4aab5"
   },
   "outputs": [],
   "source": [
    "Predictor_Results = Predictor_fit.transform(testing)\n"
   ]
  },
  {
   "cell_type": "code",
   "execution_count": 26,
   "id": "F9HJGz09mrZ4",
   "metadata": {
    "colab": {
     "base_uri": "https://localhost:8080/"
    },
    "id": "F9HJGz09mrZ4",
    "outputId": "96533c6c-73ed-4c9f-d0ad-76ad90a1688b"
   },
   "outputs": [
    {
     "name": "stdout",
     "output_type": "stream",
     "text": [
      "+-----+--------------------+------+-----+--------------------+--------------------+--------------------+--------------------+--------------------+--------------------+--------------------+----------+\n",
      "|class|                text|length|label|          token_text|         stop_tokens|           count_vec|              tf_idf|            features|       rawPrediction|         probability|prediction|\n",
      "+-----+--------------------+------+-----+--------------------+--------------------+--------------------+--------------------+--------------------+--------------------+--------------------+----------+\n",
      "|  ham| &lt;#&gt;  in mc...|    36|  0.0|[, &lt;#&gt;, , i...|[, &lt;#&gt;, , m...|(10781,[3,6,8091]...|(10781,[3,6,8091]...|(10782,[3,6,8091,...|[-159.79317525429...|[1.0,1.3157285759...|       0.0|\n",
      "|  ham| what number do u...|    36|  0.0|[, what, number, ...|[, number, u, liv...|(10781,[0,3,71,20...|(10781,[0,3,71,20...|(10782,[0,3,71,20...|[-131.77352585091...|[0.99995836005344...|       0.0|\n",
      "|  ham|\"Its Ur luck to L...|   155|  0.0|[\"its, ur, luck, ...|[\"its, ur, luck, ...|(10781,[4,28,33,1...|(10781,[4,28,33,1...|(10782,[4,28,33,1...|[-889.91072302912...|[1.0,5.7691994986...|       0.0|\n",
      "|  ham|\"Response\" is one...|   154|  0.0|[\"response\", is, ...|[\"response\", one,...|(10781,[2,7,33,43...|(10781,[2,7,33,43...|(10782,[2,7,33,43...|[-740.48171734550...|[1.0,1.9992361290...|       0.0|\n",
      "|  ham|\"SYMPTOMS\" when U...|   139|  0.0|[\"symptoms\", when...|[\"symptoms\", u, l...|(10781,[0,5,11,27...|(10781,[0,5,11,27...|(10782,[0,5,11,27...|[-655.98667200608...|[1.0,1.7572989868...|       0.0|\n",
      "|  ham|\"Speak only when ...|    80|  0.0|[\"speak, only, wh...|[\"speak, feel, wo...|(10781,[111,123,2...|(10781,[111,123,2...|(10782,[111,123,2...|[-211.30274221766...|[1.0,2.5297684759...|       0.0|\n",
      "|  ham|&lt;#&gt; ISH MIN...|    45|  0.0|[&lt;#&gt;, ish, ...|[&lt;#&gt;, ish, ...|(10781,[6,209,240...|(10781,[6,209,240...|(10782,[6,209,240...|[-410.93434052279...|[1.0,3.8308920764...|       0.0|\n",
      "|  ham|'Wnevr i wana fal...|   155|  0.0|['wnevr, i, wana,...|['wnevr, wana, fa...|(10781,[13,111,26...|(10781,[13,111,26...|(10782,[13,111,26...|[-399.84231552426...|[1.0,4.9401233401...|       0.0|\n",
      "|  ham|(And my man carlo...|    66|  0.0|[(and, my, man, c...|[(and, man, carlo...|(10781,[127,186,7...|(10781,[127,186,7...|(10782,[127,186,7...|[-370.47018707271...|[1.0,5.0320339237...|       0.0|\n",
      "|  ham|(No promises on w...|    60|  0.0|[(no, promises, o...|[(no, promises, t...|(10781,[72,313,40...|(10781,[72,313,40...|(10782,[72,313,40...|[-186.77733706952...|[1.0,4.0103583716...|       0.0|\n",
      "|  ham|* Was a nice day ...|   140|  0.0|[*, was, a, nice,...|[*, nice, day, an...|(10781,[44,50,100...|(10781,[44,50,100...|(10782,[44,50,100...|[-549.79241286666...|[1.0,3.8563932065...|       0.0|\n",
      "|  ham|* Will be septemb...|    28|  0.0|[*, will, be, sep...|[*, september, th...|(10781,[213,2167]...|(10781,[213,2167]...|(10782,[213,2167,...|[-125.46899167227...|[0.99999999999999...|       0.0|\n",
      "|  ham|* Will have two m...|    67|  0.0|[*, will, have, t...|[*, two, cartons,...|(10781,[0,213,338...|(10781,[0,213,338...|(10782,[0,213,338...|[-204.71170876902...|[1.0,1.6318099408...|       0.0|\n",
      "|  ham|*deep sigh* ... I...|   129|  0.0|[*deep, sigh*, .....|[*deep, sigh*, .....|(10781,[5,22,69,7...|(10781,[5,22,69,7...|(10782,[5,22,69,7...|[-683.86464442970...|[1.0,4.2831529258...|       0.0|\n",
      "|  ham|1's reach home ca...|    23|  0.0|[1's, reach, home...|[1's, reach, home...|(10781,[1,50,61,2...|(10781,[1,50,61,2...|(10782,[1,50,61,2...|[-215.26682161753...|[0.99999999998918...|       0.0|\n",
      "|  ham|1. Tension face 2...|   158|  0.0|[1., tension, fac...|[1., tension, fac...|(10781,[3,6,575,6...|(10781,[3,6,575,6...|(10782,[3,6,575,6...|[-1200.8854864188...|[1.0,2.4694357694...|       0.0|\n",
      "|  ham|1Apple/Day=No Doc...|   154|  0.0|[1apple/day=no, d...|[1apple/day=no, d...|(10781,[0,2,146,1...|(10781,[0,2,146,1...|(10782,[0,2,146,1...|[-444.84657569473...|[1.0,1.1555502860...|       0.0|\n",
      "|  ham|2 laptop... I noe...|    58|  0.0|[2, laptop..., i,...|[2, laptop..., no...|(10781,[2,33,163,...|(10781,[2,33,163,...|(10782,[2,33,163,...|[-430.21949615550...|[1.0,5.0569186486...|       0.0|\n",
      "|  ham|3 pa but not sele...|    22|  0.0|[3, pa, but, not,...|  [3, pa, selected.]|(10781,[146,1254]...|(10781,[146,1254]...|(10782,[146,1254,...|[-112.66157759537...|[0.99999995251286...|       0.0|\n",
      "|  ham|                 645|     3|  0.0|               [645]|               [645]|       (10781,[],[])|       (10781,[],[])|(10782,[10781],[3...|[-1.7877122509149...|[0.89143120966109...|       0.0|\n",
      "+-----+--------------------+------+-----+--------------------+--------------------+--------------------+--------------------+--------------------+--------------------+--------------------+----------+\n",
      "only showing top 20 rows\n",
      "\n"
     ]
    }
   ],
   "source": [
    "Predictor_Results.show()"
   ]
  },
  {
   "cell_type": "markdown",
   "id": "bce2885f",
   "metadata": {
    "id": "bce2885f"
   },
   "source": [
    "### Print the schema of the prediction dataframe"
   ]
  },
  {
   "cell_type": "code",
   "execution_count": 27,
   "id": "TRaj8Ub-nBk2",
   "metadata": {
    "colab": {
     "base_uri": "https://localhost:8080/"
    },
    "id": "TRaj8Ub-nBk2",
    "outputId": "3c87f3b1-7532-4a2a-e3e7-8e0783e93329"
   },
   "outputs": [
    {
     "name": "stdout",
     "output_type": "stream",
     "text": [
      "root\n",
      " |-- class: string (nullable = true)\n",
      " |-- text: string (nullable = true)\n",
      " |-- length: integer (nullable = true)\n",
      " |-- label: double (nullable = false)\n",
      " |-- token_text: array (nullable = true)\n",
      " |    |-- element: string (containsNull = true)\n",
      " |-- stop_tokens: array (nullable = true)\n",
      " |    |-- element: string (containsNull = true)\n",
      " |-- count_vec: vector (nullable = true)\n",
      " |-- tf_idf: vector (nullable = true)\n",
      " |-- features: vector (nullable = true)\n",
      " |-- rawPrediction: vector (nullable = true)\n",
      " |-- probability: vector (nullable = true)\n",
      " |-- prediction: double (nullable = false)\n",
      "\n"
     ]
    }
   ],
   "source": [
    "Predictor_Results.printSchema()"
   ]
  },
  {
   "cell_type": "markdown",
   "id": "57f27055",
   "metadata": {
    "id": "57f27055"
   },
   "source": [
    "## Model Evaluation\n",
    "- Use <b>MulticlassClassificationEvaluator</b> to calculate the <b>f1_score</b>."
   ]
  },
  {
   "cell_type": "code",
   "execution_count": 28,
   "id": "61911086",
   "metadata": {
    "id": "61911086"
   },
   "outputs": [],
   "source": [
    "# from pyspark.mllib.evaluation import BinaryClassificationMetrics\n",
    "from pyspark.ml.evaluation import MulticlassClassificationEvaluator\n"
   ]
  },
  {
   "cell_type": "code",
   "execution_count": 29,
   "id": "be706565",
   "metadata": {
    "id": "be706565"
   },
   "outputs": [],
   "source": [
    "Evaluator = MulticlassClassificationEvaluator()\n",
    "f1_score = Evaluator.evaluate(Predictor_Results)\n"
   ]
  },
  {
   "cell_type": "code",
   "execution_count": 30,
   "id": "SXYUG8Neplzd",
   "metadata": {
    "colab": {
     "base_uri": "https://localhost:8080/"
    },
    "id": "SXYUG8Neplzd",
    "outputId": "39bd8b3f-366c-43e3-9cfe-2d3686531087"
   },
   "outputs": [
    {
     "name": "stdout",
     "output_type": "stream",
     "text": [
      "f1_score is:  0.9789991382826017\n"
     ]
    }
   ],
   "source": [
    "print (\"f1_score is: \", f1_score)\n"
   ]
  },
  {
   "cell_type": "code",
   "execution_count": null,
   "id": "af1f9ba1",
   "metadata": {
    "id": "af1f9ba1",
    "outputId": "0feca205-e003-4596-e2b8-37497fd3a61f"
   },
   "outputs": [
    {
     "name": "stdout",
     "output_type": "stream",
     "text": [
      "f1_score is: 0.9664707489549014\n"
     ]
    }
   ],
   "source": []
  },
  {
   "cell_type": "markdown",
   "id": "e00e7b53",
   "metadata": {
    "id": "e00e7b53"
   },
   "source": [
    "# GOOD LUCK\n",
    "<b><font color='GREEN'>AI-PRO Spark Team ITI</font></b>"
   ]
  },
  {
   "cell_type": "markdown",
   "id": "0e065922",
   "metadata": {
    "id": "0e065922"
   },
   "source": [
    "![image-3.png](attachment:image-3.png)"
   ]
  }
 ],
 "metadata": {
  "colab": {
   "collapsed_sections": [],
   "name": "Spark and Python for Big Data Final Exam-Corrective.ipynb",
   "provenance": []
  },
  "kernelspec": {
   "display_name": "Python 3 (ipykernel)",
   "language": "python",
   "name": "python3"
  },
  "language_info": {
   "codemirror_mode": {
    "name": "ipython",
    "version": 3
   },
   "file_extension": ".py",
   "mimetype": "text/x-python",
   "name": "python",
   "nbconvert_exporter": "python",
   "pygments_lexer": "ipython3",
   "version": "3.10.1"
  }
 },
 "nbformat": 4,
 "nbformat_minor": 5
}
